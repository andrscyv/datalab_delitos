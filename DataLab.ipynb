{
  "nbformat": 4,
  "nbformat_minor": 0,
  "metadata": {
    "colab": {
      "name": "DataLab.ipynb",
      "provenance": [],
      "collapsed_sections": [],
      "authorship_tag": "ABX9TyMjSlGSJ3rKDaBp+jEHC85n",
      "include_colab_link": true
    },
    "kernelspec": {
      "name": "python3",
      "display_name": "Python 3"
    }
  },
  "cells": [
    {
      "cell_type": "markdown",
      "metadata": {
        "id": "view-in-github",
        "colab_type": "text"
      },
      "source": [
        "<a href=\"https://colab.research.google.com/github/andrscyv/datalab_delitos/blob/master/DataLab.ipynb\" target=\"_parent\"><img src=\"https://colab.research.google.com/assets/colab-badge.svg\" alt=\"Open In Colab\"/></a>"
      ]
    },
    {
      "cell_type": "code",
      "metadata": {
        "id": "4G_S-ZQQZLcl",
        "colab_type": "code",
        "colab": {
          "base_uri": "https://localhost:8080/",
          "height": 34
        },
        "outputId": "9a73de7b-231c-487a-df1a-60c0be9f7854"
      },
      "source": [
        "from google.colab import drive\n",
        "\n",
        "drive.mount('/content/drive',force_remount=True)\n",
        "\n"
      ],
      "execution_count": 1,
      "outputs": [
        {
          "output_type": "stream",
          "text": [
            "Mounted at /content/drive\n"
          ],
          "name": "stdout"
        }
      ]
    },
    {
      "cell_type": "code",
      "metadata": {
        "id": "jVTjVyqQSeQ9",
        "colab_type": "code",
        "colab": {
          "base_uri": "https://localhost:8080/",
          "height": 272
        },
        "outputId": "3c21e34a-46fe-4e51-e3e6-712de5057169"
      },
      "source": [
        "!pip install gmplot"
      ],
      "execution_count": 97,
      "outputs": [
        {
          "output_type": "stream",
          "text": [
            "Collecting gmplot\n",
            "\u001b[?25l  Downloading https://files.pythonhosted.org/packages/e2/b1/e1429c31a40b3ef5840c16f78b506d03be9f27e517d3870a6fd0b356bd46/gmplot-1.2.0.tar.gz (115kB)\n",
            "\r\u001b[K     |██▉                             | 10kB 18.1MB/s eta 0:00:01\r\u001b[K     |█████▊                          | 20kB 2.1MB/s eta 0:00:01\r\u001b[K     |████████▌                       | 30kB 3.1MB/s eta 0:00:01\r\u001b[K     |███████████▍                    | 40kB 2.0MB/s eta 0:00:01\r\u001b[K     |██████████████▏                 | 51kB 2.5MB/s eta 0:00:01\r\u001b[K     |█████████████████               | 61kB 3.0MB/s eta 0:00:01\r\u001b[K     |████████████████████            | 71kB 3.5MB/s eta 0:00:01\r\u001b[K     |██████████████████████▊         | 81kB 3.9MB/s eta 0:00:01\r\u001b[K     |█████████████████████████▋      | 92kB 4.4MB/s eta 0:00:01\r\u001b[K     |████████████████████████████▍   | 102kB 3.4MB/s eta 0:00:01\r\u001b[K     |███████████████████████████████▎| 112kB 3.4MB/s eta 0:00:01\r\u001b[K     |████████████████████████████████| 122kB 3.4MB/s \n",
            "\u001b[?25hRequirement already satisfied: requests in /usr/local/lib/python3.6/dist-packages (from gmplot) (2.21.0)\n",
            "Requirement already satisfied: certifi>=2017.4.17 in /usr/local/lib/python3.6/dist-packages (from requests->gmplot) (2019.11.28)\n",
            "Requirement already satisfied: idna<2.9,>=2.5 in /usr/local/lib/python3.6/dist-packages (from requests->gmplot) (2.8)\n",
            "Requirement already satisfied: chardet<3.1.0,>=3.0.2 in /usr/local/lib/python3.6/dist-packages (from requests->gmplot) (3.0.4)\n",
            "Requirement already satisfied: urllib3<1.25,>=1.21.1 in /usr/local/lib/python3.6/dist-packages (from requests->gmplot) (1.24.3)\n",
            "Building wheels for collected packages: gmplot\n",
            "  Building wheel for gmplot (setup.py) ... \u001b[?25l\u001b[?25hdone\n",
            "  Created wheel for gmplot: filename=gmplot-1.2.0-cp36-none-any.whl size=143765 sha256=edd758cb6e8032c9f234028b5ecfb05cee9fdbbaea914f22d7e4ce5865966d58\n",
            "  Stored in directory: /root/.cache/pip/wheels/81/6a/76/4dd6a7cc310ba765894159ee84871e8cd55221d82ef14b81a1\n",
            "Successfully built gmplot\n",
            "Installing collected packages: gmplot\n",
            "Successfully installed gmplot-1.2.0\n"
          ],
          "name": "stdout"
        }
      ]
    },
    {
      "cell_type": "code",
      "metadata": {
        "id": "S5UOXTAjmXrL",
        "colab_type": "code",
        "colab": {}
      },
      "source": [
        "import pandas as pd\n",
        "\n",
        "import numpy as np\n",
        "\n",
        "import matplotlib.pyplot as plt\n",
        "\n",
        "import seaborn as sns\n",
        "\n",
        "import gmplot"
      ],
      "execution_count": 0,
      "outputs": []
    },
    {
      "cell_type": "code",
      "metadata": {
        "id": "6g8vljlaZ_de",
        "colab_type": "code",
        "colab": {
          "base_uri": "https://localhost:8080/",
          "height": 306
        },
        "outputId": "f6a4a6c4-da1e-4af5-c7a3-2d0fd0ad64b6"
      },
      "source": [
        "data=pd.read_csv('/content/drive/My Drive/dataLab/datalab.csv')\n",
        "data.head()"
      ],
      "execution_count": 62,
      "outputs": [
        {
          "output_type": "execute_result",
          "data": {
            "text/html": [
              "<div>\n",
              "<style scoped>\n",
              "    .dataframe tbody tr th:only-of-type {\n",
              "        vertical-align: middle;\n",
              "    }\n",
              "\n",
              "    .dataframe tbody tr th {\n",
              "        vertical-align: top;\n",
              "    }\n",
              "\n",
              "    .dataframe thead th {\n",
              "        text-align: right;\n",
              "    }\n",
              "</style>\n",
              "<table border=\"1\" class=\"dataframe\">\n",
              "  <thead>\n",
              "    <tr style=\"text-align: right;\">\n",
              "      <th></th>\n",
              "      <th>Unnamed: 0</th>\n",
              "      <th>FechaInicio</th>\n",
              "      <th>Delito</th>\n",
              "      <th>Categoria</th>\n",
              "      <th>Sexo</th>\n",
              "      <th>Edad</th>\n",
              "      <th>CalidadJuridica</th>\n",
              "      <th>FechaHecho</th>\n",
              "      <th>HoraHecho</th>\n",
              "      <th>HoraInicio</th>\n",
              "      <th>geopoint</th>\n",
              "      <th>AlcaldiaHechos</th>\n",
              "      <th>ColoniaHechos</th>\n",
              "      <th>persona_fisica</th>\n",
              "    </tr>\n",
              "  </thead>\n",
              "  <tbody>\n",
              "    <tr>\n",
              "      <th>0</th>\n",
              "      <td>1</td>\n",
              "      <td>20/12/2019</td>\n",
              "      <td>ROBO A CASA HABITACION SIN VIOLENCIA</td>\n",
              "      <td>DELITO DE BAJO IMPACTO</td>\n",
              "      <td>Masculino</td>\n",
              "      <td>NaN</td>\n",
              "      <td>VICTIMA Y DENUNCIANTE</td>\n",
              "      <td>19/12/2019</td>\n",
              "      <td>16:00:00</td>\n",
              "      <td>03:26:00</td>\n",
              "      <td>19.367423897,-99.2002892</td>\n",
              "      <td>ALVARO OBREGON</td>\n",
              "      <td>LOMAS DE PLATEROS</td>\n",
              "      <td>True</td>\n",
              "    </tr>\n",
              "    <tr>\n",
              "      <th>1</th>\n",
              "      <td>2</td>\n",
              "      <td>20/12/2019</td>\n",
              "      <td>LESIONES INTENCIONALES POR GOLPES</td>\n",
              "      <td>DELITO DE BAJO IMPACTO</td>\n",
              "      <td>Masculino</td>\n",
              "      <td>NaN</td>\n",
              "      <td>VICTIMA Y DENUNCIANTE</td>\n",
              "      <td>19/12/2019</td>\n",
              "      <td>17:00:00</td>\n",
              "      <td>03:50:00</td>\n",
              "      <td>19.132673472,-99.1848566757</td>\n",
              "      <td>TLALPAN</td>\n",
              "      <td>PARRES EL GUARDA</td>\n",
              "      <td>True</td>\n",
              "    </tr>\n",
              "    <tr>\n",
              "      <th>2</th>\n",
              "      <td>3</td>\n",
              "      <td>20/12/2019</td>\n",
              "      <td>DESAPARICION FORZADA DE PERSONAS</td>\n",
              "      <td>DELITO DE BAJO IMPACTO</td>\n",
              "      <td>Masculino</td>\n",
              "      <td>36.0</td>\n",
              "      <td>VICTIMA</td>\n",
              "      <td>19/12/2019</td>\n",
              "      <td>12:30:00</td>\n",
              "      <td>04:12:00</td>\n",
              "      <td>19.3800069441,-99.2121711759</td>\n",
              "      <td>ALVARO OBREGON</td>\n",
              "      <td>GOLONDRINAS 1A SECCIÓN</td>\n",
              "      <td>True</td>\n",
              "    </tr>\n",
              "    <tr>\n",
              "      <th>3</th>\n",
              "      <td>4</td>\n",
              "      <td>20/12/2019</td>\n",
              "      <td>DAÑO EN PROPIEDAD AJENA INTENCIONAL A AUTOMOVIL</td>\n",
              "      <td>DELITO DE BAJO IMPACTO</td>\n",
              "      <td>Femenino</td>\n",
              "      <td>NaN</td>\n",
              "      <td>VICTIMA Y DENUNCIANTE</td>\n",
              "      <td>01/12/2019</td>\n",
              "      <td>01:00:00</td>\n",
              "      <td>04:39:00</td>\n",
              "      <td>19.4403246412,-99.0972838597</td>\n",
              "      <td>VENUSTIANO CARRANZA</td>\n",
              "      <td>ROMERO RUBIO</td>\n",
              "      <td>True</td>\n",
              "    </tr>\n",
              "    <tr>\n",
              "      <th>4</th>\n",
              "      <td>5</td>\n",
              "      <td>20/12/2019</td>\n",
              "      <td>VIOLENCIA FAMILIAR</td>\n",
              "      <td>DELITO DE BAJO IMPACTO</td>\n",
              "      <td>Femenino</td>\n",
              "      <td>24.0</td>\n",
              "      <td>VICTIMA Y DENUNCIANTE</td>\n",
              "      <td>20/12/2019</td>\n",
              "      <td>00:00:00</td>\n",
              "      <td>05:03:00</td>\n",
              "      <td>19.3738296017,-99.279684614</td>\n",
              "      <td>CUAJIMALPA DE MORELOS</td>\n",
              "      <td>LA NAVIDAD</td>\n",
              "      <td>True</td>\n",
              "    </tr>\n",
              "  </tbody>\n",
              "</table>\n",
              "</div>"
            ],
            "text/plain": [
              "   Unnamed: 0 FechaInicio  ...           ColoniaHechos persona_fisica\n",
              "0           1  20/12/2019  ...       LOMAS DE PLATEROS           True\n",
              "1           2  20/12/2019  ...        PARRES EL GUARDA           True\n",
              "2           3  20/12/2019  ...  GOLONDRINAS 1A SECCIÓN           True\n",
              "3           4  20/12/2019  ...            ROMERO RUBIO           True\n",
              "4           5  20/12/2019  ...              LA NAVIDAD           True\n",
              "\n",
              "[5 rows x 14 columns]"
            ]
          },
          "metadata": {
            "tags": []
          },
          "execution_count": 62
        }
      ]
    },
    {
      "cell_type": "markdown",
      "metadata": {
        "id": "2vczIuv-bU9A",
        "colab_type": "text"
      },
      "source": [
        "Primero exploramos los tipos de variables del dataset y estadisticas descriptivas"
      ]
    },
    {
      "cell_type": "code",
      "metadata": {
        "id": "X3yZy3IlaGdr",
        "colab_type": "code",
        "colab": {
          "base_uri": "https://localhost:8080/",
          "height": 646
        },
        "outputId": "7f297be5-9efd-49c2-f93c-e6a91b6d7cee"
      },
      "source": [
        "data.info()\n",
        "## Veamos cuales columnas tienen valorse nulos\n",
        "print(\"\\nPorcentaje de valores nulos por columna\\n\")\n",
        "data.isnull().sum()/data.shape[0]*100\n"
      ],
      "execution_count": 63,
      "outputs": [
        {
          "output_type": "stream",
          "text": [
            "<class 'pandas.core.frame.DataFrame'>\n",
            "RangeIndex: 200789 entries, 0 to 200788\n",
            "Data columns (total 14 columns):\n",
            "Unnamed: 0         200789 non-null int64\n",
            "FechaInicio        200789 non-null object\n",
            "Delito             200789 non-null object\n",
            "Categoria          200789 non-null object\n",
            "Sexo               179300 non-null object\n",
            "Edad               147391 non-null float64\n",
            "CalidadJuridica    200789 non-null object\n",
            "FechaHecho         200764 non-null object\n",
            "HoraHecho          185950 non-null object\n",
            "HoraInicio         200203 non-null object\n",
            "geopoint           192470 non-null object\n",
            "AlcaldiaHechos     200789 non-null object\n",
            "ColoniaHechos      192451 non-null object\n",
            "persona_fisica     200789 non-null bool\n",
            "dtypes: bool(1), float64(1), int64(1), object(11)\n",
            "memory usage: 20.1+ MB\n",
            "\n",
            "Porcentaje de valores nulos por columna\n",
            "\n"
          ],
          "name": "stdout"
        },
        {
          "output_type": "execute_result",
          "data": {
            "text/plain": [
              "Unnamed: 0          0.000000\n",
              "FechaInicio         0.000000\n",
              "Delito              0.000000\n",
              "Categoria           0.000000\n",
              "Sexo               10.702280\n",
              "Edad               26.594086\n",
              "CalidadJuridica     0.000000\n",
              "FechaHecho          0.012451\n",
              "HoraHecho           7.390345\n",
              "HoraInicio          0.291849\n",
              "geopoint            4.143155\n",
              "AlcaldiaHechos      0.000000\n",
              "ColoniaHechos       4.152618\n",
              "persona_fisica      0.000000\n",
              "dtype: float64"
            ]
          },
          "metadata": {
            "tags": []
          },
          "execution_count": 63
        }
      ]
    },
    {
      "cell_type": "markdown",
      "metadata": {
        "id": "9IBgdDDocv_R",
        "colab_type": "text"
      },
      "source": [
        "Notamos que las variables Sexo, Edad, FechaHecho, HoraHecho, HoraInicio, geopoint, AlcaldiaHechos, ColoniaHechos y persona_fisica tienen valores nulos.\n",
        "\n",
        "Además, las variables que representan horas o fechas tienen tipo 'object', transformalas a datetime sería util para manejarlas con mayor facilidad. Ocurre lo mismo con la variable geopoint."
      ]
    },
    {
      "cell_type": "code",
      "metadata": {
        "id": "4NFiCJE-gUPQ",
        "colab_type": "code",
        "colab": {
          "base_uri": "https://localhost:8080/",
          "height": 407
        },
        "outputId": "191d7b4a-0a6b-43cd-d6ea-83bfba2b6dd4"
      },
      "source": [
        "## Calculemos estadisticas descriptivas de las columnas\n",
        "data.describe(include = 'all')"
      ],
      "execution_count": 64,
      "outputs": [
        {
          "output_type": "execute_result",
          "data": {
            "text/html": [
              "<div>\n",
              "<style scoped>\n",
              "    .dataframe tbody tr th:only-of-type {\n",
              "        vertical-align: middle;\n",
              "    }\n",
              "\n",
              "    .dataframe tbody tr th {\n",
              "        vertical-align: top;\n",
              "    }\n",
              "\n",
              "    .dataframe thead th {\n",
              "        text-align: right;\n",
              "    }\n",
              "</style>\n",
              "<table border=\"1\" class=\"dataframe\">\n",
              "  <thead>\n",
              "    <tr style=\"text-align: right;\">\n",
              "      <th></th>\n",
              "      <th>Unnamed: 0</th>\n",
              "      <th>FechaInicio</th>\n",
              "      <th>Delito</th>\n",
              "      <th>Categoria</th>\n",
              "      <th>Sexo</th>\n",
              "      <th>Edad</th>\n",
              "      <th>CalidadJuridica</th>\n",
              "      <th>FechaHecho</th>\n",
              "      <th>HoraHecho</th>\n",
              "      <th>HoraInicio</th>\n",
              "      <th>geopoint</th>\n",
              "      <th>AlcaldiaHechos</th>\n",
              "      <th>ColoniaHechos</th>\n",
              "      <th>persona_fisica</th>\n",
              "    </tr>\n",
              "  </thead>\n",
              "  <tbody>\n",
              "    <tr>\n",
              "      <th>count</th>\n",
              "      <td>200789.000000</td>\n",
              "      <td>200789</td>\n",
              "      <td>200789</td>\n",
              "      <td>200789</td>\n",
              "      <td>179300</td>\n",
              "      <td>147391.000000</td>\n",
              "      <td>200789</td>\n",
              "      <td>200764</td>\n",
              "      <td>185950</td>\n",
              "      <td>200203</td>\n",
              "      <td>192470</td>\n",
              "      <td>200789</td>\n",
              "      <td>192451</td>\n",
              "      <td>200789</td>\n",
              "    </tr>\n",
              "    <tr>\n",
              "      <th>unique</th>\n",
              "      <td>NaN</td>\n",
              "      <td>365</td>\n",
              "      <td>254</td>\n",
              "      <td>16</td>\n",
              "      <td>3</td>\n",
              "      <td>NaN</td>\n",
              "      <td>4</td>\n",
              "      <td>2119</td>\n",
              "      <td>1437</td>\n",
              "      <td>25240</td>\n",
              "      <td>163054</td>\n",
              "      <td>277</td>\n",
              "      <td>1595</td>\n",
              "      <td>2</td>\n",
              "    </tr>\n",
              "    <tr>\n",
              "      <th>top</th>\n",
              "      <td>NaN</td>\n",
              "      <td>11/09/2019</td>\n",
              "      <td>VIOLENCIA FAMILIAR</td>\n",
              "      <td>DELITO DE BAJO IMPACTO</td>\n",
              "      <td>Masculino</td>\n",
              "      <td>NaN</td>\n",
              "      <td>VICTIMA Y DENUNCIANTE</td>\n",
              "      <td>01/04/2019</td>\n",
              "      <td>12:00:00</td>\n",
              "      <td>13:09:00</td>\n",
              "      <td>19.4212108958,-99.1495658</td>\n",
              "      <td>IZTAPALAPA</td>\n",
              "      <td>CENTRO</td>\n",
              "      <td>True</td>\n",
              "    </tr>\n",
              "    <tr>\n",
              "      <th>freq</th>\n",
              "      <td>NaN</td>\n",
              "      <td>849</td>\n",
              "      <td>26936</td>\n",
              "      <td>148815</td>\n",
              "      <td>99574</td>\n",
              "      <td>NaN</td>\n",
              "      <td>150986</td>\n",
              "      <td>735</td>\n",
              "      <td>11662</td>\n",
              "      <td>256</td>\n",
              "      <td>84</td>\n",
              "      <td>32591</td>\n",
              "      <td>5767</td>\n",
              "      <td>178843</td>\n",
              "    </tr>\n",
              "    <tr>\n",
              "      <th>mean</th>\n",
              "      <td>100395.000000</td>\n",
              "      <td>NaN</td>\n",
              "      <td>NaN</td>\n",
              "      <td>NaN</td>\n",
              "      <td>NaN</td>\n",
              "      <td>38.474554</td>\n",
              "      <td>NaN</td>\n",
              "      <td>NaN</td>\n",
              "      <td>NaN</td>\n",
              "      <td>NaN</td>\n",
              "      <td>NaN</td>\n",
              "      <td>NaN</td>\n",
              "      <td>NaN</td>\n",
              "      <td>NaN</td>\n",
              "    </tr>\n",
              "    <tr>\n",
              "      <th>std</th>\n",
              "      <td>57962.935938</td>\n",
              "      <td>NaN</td>\n",
              "      <td>NaN</td>\n",
              "      <td>NaN</td>\n",
              "      <td>NaN</td>\n",
              "      <td>16.306435</td>\n",
              "      <td>NaN</td>\n",
              "      <td>NaN</td>\n",
              "      <td>NaN</td>\n",
              "      <td>NaN</td>\n",
              "      <td>NaN</td>\n",
              "      <td>NaN</td>\n",
              "      <td>NaN</td>\n",
              "      <td>NaN</td>\n",
              "    </tr>\n",
              "    <tr>\n",
              "      <th>min</th>\n",
              "      <td>1.000000</td>\n",
              "      <td>NaN</td>\n",
              "      <td>NaN</td>\n",
              "      <td>NaN</td>\n",
              "      <td>NaN</td>\n",
              "      <td>0.000000</td>\n",
              "      <td>NaN</td>\n",
              "      <td>NaN</td>\n",
              "      <td>NaN</td>\n",
              "      <td>NaN</td>\n",
              "      <td>NaN</td>\n",
              "      <td>NaN</td>\n",
              "      <td>NaN</td>\n",
              "      <td>NaN</td>\n",
              "    </tr>\n",
              "    <tr>\n",
              "      <th>25%</th>\n",
              "      <td>50198.000000</td>\n",
              "      <td>NaN</td>\n",
              "      <td>NaN</td>\n",
              "      <td>NaN</td>\n",
              "      <td>NaN</td>\n",
              "      <td>27.000000</td>\n",
              "      <td>NaN</td>\n",
              "      <td>NaN</td>\n",
              "      <td>NaN</td>\n",
              "      <td>NaN</td>\n",
              "      <td>NaN</td>\n",
              "      <td>NaN</td>\n",
              "      <td>NaN</td>\n",
              "      <td>NaN</td>\n",
              "    </tr>\n",
              "    <tr>\n",
              "      <th>50%</th>\n",
              "      <td>100395.000000</td>\n",
              "      <td>NaN</td>\n",
              "      <td>NaN</td>\n",
              "      <td>NaN</td>\n",
              "      <td>NaN</td>\n",
              "      <td>37.000000</td>\n",
              "      <td>NaN</td>\n",
              "      <td>NaN</td>\n",
              "      <td>NaN</td>\n",
              "      <td>NaN</td>\n",
              "      <td>NaN</td>\n",
              "      <td>NaN</td>\n",
              "      <td>NaN</td>\n",
              "      <td>NaN</td>\n",
              "    </tr>\n",
              "    <tr>\n",
              "      <th>75%</th>\n",
              "      <td>150592.000000</td>\n",
              "      <td>NaN</td>\n",
              "      <td>NaN</td>\n",
              "      <td>NaN</td>\n",
              "      <td>NaN</td>\n",
              "      <td>49.000000</td>\n",
              "      <td>NaN</td>\n",
              "      <td>NaN</td>\n",
              "      <td>NaN</td>\n",
              "      <td>NaN</td>\n",
              "      <td>NaN</td>\n",
              "      <td>NaN</td>\n",
              "      <td>NaN</td>\n",
              "      <td>NaN</td>\n",
              "    </tr>\n",
              "    <tr>\n",
              "      <th>max</th>\n",
              "      <td>200789.000000</td>\n",
              "      <td>NaN</td>\n",
              "      <td>NaN</td>\n",
              "      <td>NaN</td>\n",
              "      <td>NaN</td>\n",
              "      <td>369.000000</td>\n",
              "      <td>NaN</td>\n",
              "      <td>NaN</td>\n",
              "      <td>NaN</td>\n",
              "      <td>NaN</td>\n",
              "      <td>NaN</td>\n",
              "      <td>NaN</td>\n",
              "      <td>NaN</td>\n",
              "      <td>NaN</td>\n",
              "    </tr>\n",
              "  </tbody>\n",
              "</table>\n",
              "</div>"
            ],
            "text/plain": [
              "           Unnamed: 0 FechaInicio  ... ColoniaHechos persona_fisica\n",
              "count   200789.000000      200789  ...        192451         200789\n",
              "unique            NaN         365  ...          1595              2\n",
              "top               NaN  11/09/2019  ...        CENTRO           True\n",
              "freq              NaN         849  ...          5767         178843\n",
              "mean    100395.000000         NaN  ...           NaN            NaN\n",
              "std      57962.935938         NaN  ...           NaN            NaN\n",
              "min          1.000000         NaN  ...           NaN            NaN\n",
              "25%      50198.000000         NaN  ...           NaN            NaN\n",
              "50%     100395.000000         NaN  ...           NaN            NaN\n",
              "75%     150592.000000         NaN  ...           NaN            NaN\n",
              "max     200789.000000         NaN  ...           NaN            NaN\n",
              "\n",
              "[11 rows x 14 columns]"
            ]
          },
          "metadata": {
            "tags": []
          },
          "execution_count": 64
        }
      ]
    },
    {
      "cell_type": "markdown",
      "metadata": {
        "id": "uzYzgZuQjV6g",
        "colab_type": "text"
      },
      "source": [
        "De la tabla anterior notamos que existen 254 distintos delitos y 16 categorias de estos en el dataset,estas variables destacan para ser investigadas más a fondo pues nos ayudarán a entender mejor sobre qué delitos tenemos información.\n",
        "\n",
        "Posteriormente, se podría investigar sobre en qué momentos del día se tiene mayor incidencia de delitos y en qué zonas de la ciudad y contrastar con nuestra percepción de riesgos en la ciudad.\n"
      ]
    },
    {
      "cell_type": "markdown",
      "metadata": {
        "id": "SxJ000XL367U",
        "colab_type": "text"
      },
      "source": [
        "# Preprocesamiento\n"
      ]
    },
    {
      "cell_type": "code",
      "metadata": {
        "id": "IX1crOkq3cGb",
        "colab_type": "code",
        "colab": {
          "base_uri": "https://localhost:8080/",
          "height": 289
        },
        "outputId": "39bfff58-262a-4c13-ea80-c1c91d857243"
      },
      "source": [
        "data=pd.read_csv('/content/drive/My Drive/dataLab/datalab.csv')\n",
        "def string_to_time(df, col):\n",
        "  df[col] = pd.to_datetime(df[col],format= '%H:%M:%S').dt.time\n",
        "\n",
        "def string_to_date(df,col):\n",
        "  df[col] = pd.to_datetime(df[col],errors='coerce',format=\"%d/%m/%Y\")\n",
        "\n",
        "''' Convertimos las fechas a datetime, las horas a datetime.time y geopoint a lista de floats '''\n",
        "string_to_date(data,'FechaInicio')\n",
        "string_to_date(data,'FechaHecho')\n",
        "string_to_time(data,'HoraHecho')\n",
        "string_to_time(data,'HoraInicio')\n",
        "data['geopoint'] = data['geopoint'].apply( lambda x : [float(c) for c in x.split(',')] if isinstance(x,str) else [])\n",
        "\n",
        "#Verificamos los cambios de tipo en las columnas\n",
        "print(data.iloc[0].apply(type))\n",
        "print('Tipo de geopoint es lista con elementos tipo: ',type(data.geopoint.iloc[0][0]))"
      ],
      "execution_count": 65,
      "outputs": [
        {
          "output_type": "stream",
          "text": [
            "Unnamed: 0                                     <class 'numpy.int64'>\n",
            "FechaInicio        <class 'pandas._libs.tslibs.timestamps.Timesta...\n",
            "Delito                                                 <class 'str'>\n",
            "Categoria                                              <class 'str'>\n",
            "Sexo                                                   <class 'str'>\n",
            "Edad                                         <class 'numpy.float64'>\n",
            "CalidadJuridica                                        <class 'str'>\n",
            "FechaHecho         <class 'pandas._libs.tslibs.timestamps.Timesta...\n",
            "HoraHecho                                    <class 'datetime.time'>\n",
            "HoraInicio                                   <class 'datetime.time'>\n",
            "geopoint                                              <class 'list'>\n",
            "AlcaldiaHechos                                         <class 'str'>\n",
            "ColoniaHechos                                          <class 'str'>\n",
            "persona_fisica                                 <class 'numpy.bool_'>\n",
            "Name: 0, dtype: object\n",
            "Tipo de geopoint es lista con elementos tipo:  <class 'float'>\n"
          ],
          "name": "stdout"
        }
      ]
    },
    {
      "cell_type": "markdown",
      "metadata": {
        "id": "vanjXrvm7zLU",
        "colab_type": "text"
      },
      "source": [
        "# Pregunta 1: ¿Cuáles categorias/delitos son los mayoritarios en el dataset?\n"
      ]
    },
    {
      "cell_type": "code",
      "metadata": {
        "id": "8OUrUjcSt6Zt",
        "colab_type": "code",
        "colab": {
          "base_uri": "https://localhost:8080/",
          "height": 299
        },
        "outputId": "eb6a9fc1-36ee-425d-c96a-df34386e90f7"
      },
      "source": [
        "print(f\"Valores de variablae 'Categoria' con frecuencia porcentual\")\n",
        "categorias = data[\"Categoria\"].value_counts()/data.shape[0]*100\n",
        "categorias.plot(kind='barh', y='Categoria', x = 'Porcentaje del total')"
      ],
      "execution_count": 66,
      "outputs": [
        {
          "output_type": "stream",
          "text": [
            "Valores de variablae 'Categoria' con frecuencia porcentual\n"
          ],
          "name": "stdout"
        },
        {
          "output_type": "execute_result",
          "data": {
            "text/plain": [
              "<matplotlib.axes._subplots.AxesSubplot at 0x7fecd2392908>"
            ]
          },
          "metadata": {
            "tags": []
          },
          "execution_count": 66
        },
        {
          "output_type": "display_data",
          "data": {
            "image/png": "[encoded data removed]",
            "text/plain": [
              "<Figure size 432x288 with 1 Axes>"
            ]
          },
          "metadata": {
            "tags": []
          }
        }
      ]
    },
    {
      "cell_type": "markdown",
      "metadata": {
        "id": "QO96jmLWvBl1",
        "colab_type": "text"
      },
      "source": [
        "Notamos que la categoría más frecuenta es DELITO DE BAJO IMPACTO lo que lleva a preguntarnos ¿Cuáles son estos delitos?\n",
        "\n",
        "En segundo lugar se encuentra ROBO A TRANSEUNTE EN VÍA PUBLICA CON Y SIN VIOLENCIA. En nuestra perspectiva personal, el problema de los asaltos en via pública son una preocupación importante de todos los que somo transeuntes. Podria ser interesante indagar más sobre las horas y zonas en donde acontecen el mayor numero de estos incidentes. Podría agruparse esta categoria con ROBO A PASAJERO A BORDO DEL METRO/MICROBUS CON Y SIN VIOLENCIA para seguir el análisis.\n"
      ]
    },
    {
      "cell_type": "markdown",
      "metadata": {
        "id": "8Se8PzwC-RpL",
        "colab_type": "text"
      },
      "source": [
        "# Delitos de bajo impacto"
      ]
    },
    {
      "cell_type": "code",
      "metadata": {
        "id": "HPEU5lGRvHJw",
        "colab_type": "code",
        "colab": {
          "base_uri": "https://localhost:8080/",
          "height": 841
        },
        "outputId": "73cc2ff7-5089-4394-87c5-884aee4e8a4a"
      },
      "source": [
        "bajo_impacto = data[data['Categoria'] == \"DELITO DE BAJO IMPACTO\"][\"Delito\"]\n",
        "print('Primeros 25 delitos de mayor frecuencia en categoria de BAJO IMPACTO (Porcentaje del total)')\n",
        "(bajo_impacto.value_counts().head(25)/data.shape[0]*100).to_frame()"
      ],
      "execution_count": 67,
      "outputs": [
        {
          "output_type": "stream",
          "text": [
            "Primeros 25 delitos de mayor frecuencia en categoria de BAJO IMPACTO (Porcentaje del total)\n"
          ],
          "name": "stdout"
        },
        {
          "output_type": "execute_result",
          "data": {
            "text/html": [
              "<div>\n",
              "<style scoped>\n",
              "    .dataframe tbody tr th:only-of-type {\n",
              "        vertical-align: middle;\n",
              "    }\n",
              "\n",
              "    .dataframe tbody tr th {\n",
              "        vertical-align: top;\n",
              "    }\n",
              "\n",
              "    .dataframe thead th {\n",
              "        text-align: right;\n",
              "    }\n",
              "</style>\n",
              "<table border=\"1\" class=\"dataframe\">\n",
              "  <thead>\n",
              "    <tr style=\"text-align: right;\">\n",
              "      <th></th>\n",
              "      <th>Delito</th>\n",
              "    </tr>\n",
              "  </thead>\n",
              "  <tbody>\n",
              "    <tr>\n",
              "      <th>VIOLENCIA FAMILIAR</th>\n",
              "      <td>13.415078</td>\n",
              "    </tr>\n",
              "    <tr>\n",
              "      <th>AMENAZAS</th>\n",
              "      <td>5.337444</td>\n",
              "    </tr>\n",
              "    <tr>\n",
              "      <th>FRAUDE</th>\n",
              "      <td>4.827456</td>\n",
              "    </tr>\n",
              "    <tr>\n",
              "      <th>ROBO DE OBJETOS</th>\n",
              "      <td>3.223284</td>\n",
              "    </tr>\n",
              "    <tr>\n",
              "      <th>ROBO A NEGOCIO SIN VIOLENCIA</th>\n",
              "      <td>2.994188</td>\n",
              "    </tr>\n",
              "    <tr>\n",
              "      <th>ROBO DE ACCESORIOS DE AUTO</th>\n",
              "      <td>2.809915</td>\n",
              "    </tr>\n",
              "    <tr>\n",
              "      <th>NARCOMENUDEO POSESION SIMPLE</th>\n",
              "      <td>2.603728</td>\n",
              "    </tr>\n",
              "    <tr>\n",
              "      <th>ROBO A CASA HABITACION SIN VIOLENCIA</th>\n",
              "      <td>2.366165</td>\n",
              "    </tr>\n",
              "    <tr>\n",
              "      <th>FALSIFICACION DE TITULOS AL PORTADOR Y DOCUMENTOS DE CREDITO PUBLICO</th>\n",
              "      <td>2.191853</td>\n",
              "    </tr>\n",
              "    <tr>\n",
              "      <th>ABUSO SEXUAL</th>\n",
              "      <td>2.146034</td>\n",
              "    </tr>\n",
              "    <tr>\n",
              "      <th>ROBO DE OBJETOS DEL INTERIOR DE UN VEHICULO</th>\n",
              "      <td>2.099219</td>\n",
              "    </tr>\n",
              "    <tr>\n",
              "      <th>ROBO A PASAJERO / CONDUCTOR DE VEHICULO CON VIOLENCIA</th>\n",
              "      <td>1.952298</td>\n",
              "    </tr>\n",
              "    <tr>\n",
              "      <th>LESIONES INTENCIONALES POR GOLPES</th>\n",
              "      <td>1.830778</td>\n",
              "    </tr>\n",
              "    <tr>\n",
              "      <th>USURPACIÓN DE IDENTIDAD</th>\n",
              "      <td>1.389518</td>\n",
              "    </tr>\n",
              "    <tr>\n",
              "      <th>LESIONES CULPOSAS POR TRANSITO VEHICULAR EN COLISION</th>\n",
              "      <td>1.376071</td>\n",
              "    </tr>\n",
              "    <tr>\n",
              "      <th>DESPOJO</th>\n",
              "      <td>1.358640</td>\n",
              "    </tr>\n",
              "    <tr>\n",
              "      <th>DAÑO EN PROPIEDAD AJENA CULPOSA POR TRÁNSITO VEHICULAR A AUTOMOVIL</th>\n",
              "      <td>1.281445</td>\n",
              "    </tr>\n",
              "    <tr>\n",
              "      <th>ABUSO DE CONFIANZA</th>\n",
              "      <td>1.149465</td>\n",
              "    </tr>\n",
              "    <tr>\n",
              "      <th>ROBO A PASAJERO A BORDO DE TRANSPORTE PÚBLICO CON VIOLENCIA</th>\n",
              "      <td>0.969177</td>\n",
              "    </tr>\n",
              "    <tr>\n",
              "      <th>TENTATIVA DE EXTORSION</th>\n",
              "      <td>0.819268</td>\n",
              "    </tr>\n",
              "    <tr>\n",
              "      <th>ABUSO DE AUTORIDAD</th>\n",
              "      <td>0.764982</td>\n",
              "    </tr>\n",
              "    <tr>\n",
              "      <th>DAÑO EN PROPIEDAD AJENA INTENCIONAL</th>\n",
              "      <td>0.732610</td>\n",
              "    </tr>\n",
              "    <tr>\n",
              "      <th>ENCUBRIMIENTO</th>\n",
              "      <td>0.712688</td>\n",
              "    </tr>\n",
              "    <tr>\n",
              "      <th>LESIONES CULPOSAS POR TRANSITO VEHICULAR</th>\n",
              "      <td>0.642964</td>\n",
              "    </tr>\n",
              "    <tr>\n",
              "      <th>LESIONES INTENCIONALES POR ARMA BLANCA</th>\n",
              "      <td>0.633003</td>\n",
              "    </tr>\n",
              "  </tbody>\n",
              "</table>\n",
              "</div>"
            ],
            "text/plain": [
              "                                                       Delito\n",
              "VIOLENCIA FAMILIAR                                  13.415078\n",
              "AMENAZAS                                             5.337444\n",
              "FRAUDE                                               4.827456\n",
              "ROBO DE OBJETOS                                      3.223284\n",
              "ROBO A NEGOCIO SIN VIOLENCIA                         2.994188\n",
              "ROBO DE ACCESORIOS DE AUTO                           2.809915\n",
              "NARCOMENUDEO POSESION SIMPLE                         2.603728\n",
              "ROBO A CASA HABITACION SIN VIOLENCIA                 2.366165\n",
              "FALSIFICACION DE TITULOS AL PORTADOR Y DOCUMENT...   2.191853\n",
              "ABUSO SEXUAL                                         2.146034\n",
              "ROBO DE OBJETOS DEL INTERIOR DE UN VEHICULO          2.099219\n",
              "ROBO A PASAJERO / CONDUCTOR DE VEHICULO CON VIO...   1.952298\n",
              "LESIONES INTENCIONALES POR GOLPES                    1.830778\n",
              "USURPACIÓN DE IDENTIDAD                              1.389518\n",
              "LESIONES CULPOSAS POR TRANSITO VEHICULAR EN COL...   1.376071\n",
              "DESPOJO                                              1.358640\n",
              "DAÑO EN PROPIEDAD AJENA CULPOSA POR TRÁNSITO VE...   1.281445\n",
              "ABUSO DE CONFIANZA                                   1.149465\n",
              "ROBO A PASAJERO A BORDO DE TRANSPORTE PÚBLICO C...   0.969177\n",
              "TENTATIVA DE EXTORSION                               0.819268\n",
              "ABUSO DE AUTORIDAD                                   0.764982\n",
              "DAÑO EN PROPIEDAD AJENA INTENCIONAL                  0.732610\n",
              "ENCUBRIMIENTO                                        0.712688\n",
              "LESIONES CULPOSAS POR TRANSITO VEHICULAR             0.642964\n",
              "LESIONES INTENCIONALES POR ARMA BLANCA               0.633003"
            ]
          },
          "metadata": {
            "tags": []
          },
          "execution_count": 67
        }
      ]
    },
    {
      "cell_type": "markdown",
      "metadata": {
        "id": "8HiDAbgS_W40",
        "colab_type": "text"
      },
      "source": [
        "Como veremos a continuación , el delito de VIOLENCIA FAMILIAR no solo es el mas frecuente de los delitos de alto impacto, sino de todos los delitos en el dataset"
      ]
    },
    {
      "cell_type": "code",
      "metadata": {
        "id": "TG3_Mg6TjVe8",
        "colab_type": "code",
        "colab": {
          "base_uri": "https://localhost:8080/",
          "height": 858
        },
        "outputId": "05602d02-d145-40a8-fb4a-44b1f69ca027"
      },
      "source": [
        "corte = 25\n",
        "delitos = data[\"Delito\"].value_counts().head(corte)/data.shape[0]*100\n",
        "print(f\"{corte} valores más frecuentes de delitos en porcentaje\\n\")\n",
        "delitos.to_frame()\n"
      ],
      "execution_count": 68,
      "outputs": [
        {
          "output_type": "stream",
          "text": [
            "25 valores más frecuentes de delitos en porcentaje\n",
            "\n"
          ],
          "name": "stdout"
        },
        {
          "output_type": "execute_result",
          "data": {
            "text/html": [
              "<div>\n",
              "<style scoped>\n",
              "    .dataframe tbody tr th:only-of-type {\n",
              "        vertical-align: middle;\n",
              "    }\n",
              "\n",
              "    .dataframe tbody tr th {\n",
              "        vertical-align: top;\n",
              "    }\n",
              "\n",
              "    .dataframe thead th {\n",
              "        text-align: right;\n",
              "    }\n",
              "</style>\n",
              "<table border=\"1\" class=\"dataframe\">\n",
              "  <thead>\n",
              "    <tr style=\"text-align: right;\">\n",
              "      <th></th>\n",
              "      <th>Delito</th>\n",
              "    </tr>\n",
              "  </thead>\n",
              "  <tbody>\n",
              "    <tr>\n",
              "      <th>VIOLENCIA FAMILIAR</th>\n",
              "      <td>13.415078</td>\n",
              "    </tr>\n",
              "    <tr>\n",
              "      <th>ROBO A TRANSEUNTE EN VIA PUBLICA CON VIOLENCIA</th>\n",
              "      <td>7.051681</td>\n",
              "    </tr>\n",
              "    <tr>\n",
              "      <th>AMENAZAS</th>\n",
              "      <td>5.337444</td>\n",
              "    </tr>\n",
              "    <tr>\n",
              "      <th>FRAUDE</th>\n",
              "      <td>4.827456</td>\n",
              "    </tr>\n",
              "    <tr>\n",
              "      <th>ROBO A NEGOCIO CON VIOLENCIA</th>\n",
              "      <td>3.620716</td>\n",
              "    </tr>\n",
              "    <tr>\n",
              "      <th>ROBO DE OBJETOS</th>\n",
              "      <td>3.223284</td>\n",
              "    </tr>\n",
              "    <tr>\n",
              "      <th>ROBO A NEGOCIO SIN VIOLENCIA</th>\n",
              "      <td>2.994188</td>\n",
              "    </tr>\n",
              "    <tr>\n",
              "      <th>ROBO DE ACCESORIOS DE AUTO</th>\n",
              "      <td>2.809915</td>\n",
              "    </tr>\n",
              "    <tr>\n",
              "      <th>ROBO DE VEHICULO DE SERVICIO PARTICULAR SIN VIOLENCIA</th>\n",
              "      <td>2.789993</td>\n",
              "    </tr>\n",
              "    <tr>\n",
              "      <th>NARCOMENUDEO POSESION SIMPLE</th>\n",
              "      <td>2.603728</td>\n",
              "    </tr>\n",
              "    <tr>\n",
              "      <th>ROBO A CASA HABITACION SIN VIOLENCIA</th>\n",
              "      <td>2.366165</td>\n",
              "    </tr>\n",
              "    <tr>\n",
              "      <th>FALSIFICACION DE TITULOS AL PORTADOR Y DOCUMENTOS DE CREDITO PUBLICO</th>\n",
              "      <td>2.191853</td>\n",
              "    </tr>\n",
              "    <tr>\n",
              "      <th>ABUSO SEXUAL</th>\n",
              "      <td>2.146034</td>\n",
              "    </tr>\n",
              "    <tr>\n",
              "      <th>ROBO DE OBJETOS DEL INTERIOR DE UN VEHICULO</th>\n",
              "      <td>2.099219</td>\n",
              "    </tr>\n",
              "    <tr>\n",
              "      <th>ROBO A PASAJERO / CONDUCTOR DE VEHICULO CON VIOLENCIA</th>\n",
              "      <td>1.952298</td>\n",
              "    </tr>\n",
              "    <tr>\n",
              "      <th>LESIONES INTENCIONALES POR GOLPES</th>\n",
              "      <td>1.830778</td>\n",
              "    </tr>\n",
              "    <tr>\n",
              "      <th>ROBO DE VEHICULO DE SERVICIO PARTICULAR CON VIOLENCIA</th>\n",
              "      <td>1.454761</td>\n",
              "    </tr>\n",
              "    <tr>\n",
              "      <th>USURPACIÓN DE IDENTIDAD</th>\n",
              "      <td>1.389518</td>\n",
              "    </tr>\n",
              "    <tr>\n",
              "      <th>LESIONES CULPOSAS POR TRANSITO VEHICULAR EN COLISION</th>\n",
              "      <td>1.376071</td>\n",
              "    </tr>\n",
              "    <tr>\n",
              "      <th>DESPOJO</th>\n",
              "      <td>1.358640</td>\n",
              "    </tr>\n",
              "    <tr>\n",
              "      <th>DAÑO EN PROPIEDAD AJENA CULPOSA POR TRÁNSITO VEHICULAR A AUTOMOVIL</th>\n",
              "      <td>1.281445</td>\n",
              "    </tr>\n",
              "    <tr>\n",
              "      <th>ABUSO DE CONFIANZA</th>\n",
              "      <td>1.149465</td>\n",
              "    </tr>\n",
              "    <tr>\n",
              "      <th>ROBO A PASAJERO A BORDO DE METRO SIN VIOLENCIA</th>\n",
              "      <td>1.086215</td>\n",
              "    </tr>\n",
              "    <tr>\n",
              "      <th>ROBO A PASAJERO A BORDO DE TRANSPORTE PÚBLICO CON VIOLENCIA</th>\n",
              "      <td>0.969177</td>\n",
              "    </tr>\n",
              "    <tr>\n",
              "      <th>LESIONES INTENCIONALES POR ARMA DE FUEGO</th>\n",
              "      <td>0.891483</td>\n",
              "    </tr>\n",
              "  </tbody>\n",
              "</table>\n",
              "</div>"
            ],
            "text/plain": [
              "                                                       Delito\n",
              "VIOLENCIA FAMILIAR                                  13.415078\n",
              "ROBO A TRANSEUNTE EN VIA PUBLICA CON VIOLENCIA       7.051681\n",
              "AMENAZAS                                             5.337444\n",
              "FRAUDE                                               4.827456\n",
              "ROBO A NEGOCIO CON VIOLENCIA                         3.620716\n",
              "ROBO DE OBJETOS                                      3.223284\n",
              "ROBO A NEGOCIO SIN VIOLENCIA                         2.994188\n",
              "ROBO DE ACCESORIOS DE AUTO                           2.809915\n",
              "ROBO DE VEHICULO DE SERVICIO PARTICULAR SIN VIO...   2.789993\n",
              "NARCOMENUDEO POSESION SIMPLE                         2.603728\n",
              "ROBO A CASA HABITACION SIN VIOLENCIA                 2.366165\n",
              "FALSIFICACION DE TITULOS AL PORTADOR Y DOCUMENT...   2.191853\n",
              "ABUSO SEXUAL                                         2.146034\n",
              "ROBO DE OBJETOS DEL INTERIOR DE UN VEHICULO          2.099219\n",
              "ROBO A PASAJERO / CONDUCTOR DE VEHICULO CON VIO...   1.952298\n",
              "LESIONES INTENCIONALES POR GOLPES                    1.830778\n",
              "ROBO DE VEHICULO DE SERVICIO PARTICULAR CON VIO...   1.454761\n",
              "USURPACIÓN DE IDENTIDAD                              1.389518\n",
              "LESIONES CULPOSAS POR TRANSITO VEHICULAR EN COL...   1.376071\n",
              "DESPOJO                                              1.358640\n",
              "DAÑO EN PROPIEDAD AJENA CULPOSA POR TRÁNSITO VE...   1.281445\n",
              "ABUSO DE CONFIANZA                                   1.149465\n",
              "ROBO A PASAJERO A BORDO DE METRO SIN VIOLENCIA       1.086215\n",
              "ROBO A PASAJERO A BORDO DE TRANSPORTE PÚBLICO C...   0.969177\n",
              "LESIONES INTENCIONALES POR ARMA DE FUEGO             0.891483"
            ]
          },
          "metadata": {
            "tags": []
          },
          "execution_count": 68
        }
      ]
    },
    {
      "cell_type": "markdown",
      "metadata": {
        "id": "JnbVi1gZ_qhi",
        "colab_type": "text"
      },
      "source": [
        "# Pregunta 2 : ¿En qué horarios y zonas ocurre la mayor cantidad de delitos contra transeuntes con y sin violencia ?\n",
        "\n",
        "\n",
        "Ahora que tenemos una mejor idea de los delitos incluidos en el dataset, nos enfocaremos en analizar aquellos delitos que podriamos llamar \"asaltos\" en general. Agruparemos las categorias  de : ROBO A TRANSEUNTE EN VÍA PÚBLICA CON Y SIN VIOLENCIA, ROBO A PASAJERO A BORDO DEL METRO CON Y SIN VIOLENCIA y ROBO A PASAJERO A BORDO DE MICROBUS CON Y SIN VIOLENCIA"
      ]
    },
    {
      "cell_type": "code",
      "metadata": {
        "id": "j1JPeEP3BkYW",
        "colab_type": "code",
        "colab": {
          "base_uri": "https://localhost:8080/",
          "height": 1000
        },
        "outputId": "4718cbf8-4afc-4313-d053-129f905e6441"
      },
      "source": [
        "#Nos enfocaremos en un subconjunto del dataset original\n",
        "\n",
        "corte = 40\n",
        "print(f'Dentro de este subconjunto hay {num_asaltos} observaciones')\n",
        "asaltos = data[ data['Categoria'].isin(['ROBO A TRANSEUNTE EN VÍA PÚBLICA CON Y SIN VIOLENCIA', 'ROBO A PASAJERO A BORDO DEL METRO CON Y SIN VIOLENCIA','ROBO A PASAJERO A BORDO DE MICROBUS CON Y SIN VIOLENCIA']) ]\n",
        "num_asaltos = asaltos.shape[0]\n",
        "print('Cantidad de observaciones por categoria\\n')\n",
        "print(asaltos.Categoria.value_counts())\n",
        "print(\"\\nPorcentaje de valores nulos por columna para este subconjunto\\n\")\n",
        "print(asaltos.isnull().sum()/asaltos.shape[0]*100)\n",
        "print('\\n Porcentade de colonias del total de asaltos (mayores incidentes)')\n",
        "colonias_mas_inseguras = asaltos.ColoniaHechos.value_counts()/num_asaltos*100\n",
        "colonias_mas_inseguras = colonias_mas_inseguras.sort_values().tail(corte)\n",
        "colonias_mas_inseguras.plot(kind='barh', figsize = (6,10))\n"
      ],
      "execution_count": 110,
      "outputs": [
        {
          "output_type": "stream",
          "text": [
            "Dentro de este subconjunto hay 19674 observaciones\n",
            "Cantidad de observaciones por categoria\n",
            "\n",
            "ROBO A TRANSEUNTE EN VÍA PÚBLICA CON Y SIN VIOLENCIA       15876\n",
            "ROBO A PASAJERO A BORDO DEL METRO CON Y SIN VIOLENCIA       2577\n",
            "ROBO A PASAJERO A BORDO DE MICROBUS CON Y SIN VIOLENCIA     1221\n",
            "Name: Categoria, dtype: int64\n",
            "\n",
            "Porcentaje de valores nulos por columna para este subconjunto\n",
            "\n",
            "Unnamed: 0          0.000000\n",
            "FechaInicio         0.000000\n",
            "Delito              0.000000\n",
            "Categoria           0.000000\n",
            "Sexo                5.067602\n",
            "Edad               18.608316\n",
            "CalidadJuridica     0.000000\n",
            "FechaHecho          0.045746\n",
            "HoraHecho           3.578327\n",
            "HoraInicio          0.223645\n",
            "geopoint            0.000000\n",
            "AlcaldiaHechos      0.000000\n",
            "ColoniaHechos       1.407950\n",
            "persona_fisica      0.000000\n",
            "dtype: float64\n",
            "\n",
            " Porcentade de colonias del total de asaltos\n"
          ],
          "name": "stdout"
        },
        {
          "output_type": "execute_result",
          "data": {
            "text/plain": [
              "\" colonias_mas_seguras = asaltos.ColoniaHechos.value_counts().tail(corte)/num_asaltos*100\\ncolonias_mas_seguras.sort_values()\\ncolonias_mas_seguras.plot(kind='barh', figsize = (6,10)) \""
            ]
          },
          "metadata": {
            "tags": []
          },
          "execution_count": 110
        },
        {
          "output_type": "display_data",
          "data": {
            "image/png": "[encoded data removed]",
            "text/plain": [
              "<Figure size 432x720 with 1 Axes>"
            ]
          },
          "metadata": {
            "tags": []
          }
        }
      ]
    },
    {
      "cell_type": "code",
      "metadata": {
        "id": "wUTw5Qa3YIn2",
        "colab_type": "code",
        "colab": {
          "base_uri": "https://localhost:8080/",
          "height": 626
        },
        "outputId": "4b61caa6-0941-4c8a-c8ec-53e2b1faaf55"
      },
      "source": [
        "print('Porcentaje incidentes por colonia (menor numero de incidentes)')\n",
        "colonias_mas_seguras = asaltos.ColoniaHechos.value_counts()/num_asaltos*100\n",
        "colonias_mas_seguras = colonias_mas_seguras.sort_values().head(corte)\n",
        "colonias_mas_seguras.plot(kind='barh', figsize = (6,10))"
      ],
      "execution_count": 112,
      "outputs": [
        {
          "output_type": "stream",
          "text": [
            "Porcentaje incidentes por colonia (menor numero de incidentes)\n"
          ],
          "name": "stdout"
        },
        {
          "output_type": "execute_result",
          "data": {
            "text/plain": [
              "<matplotlib.axes._subplots.AxesSubplot at 0x7feccff10dd8>"
            ]
          },
          "metadata": {
            "tags": []
          },
          "execution_count": 112
        },
        {
          "output_type": "display_data",
          "data": {
            "image/png": "[encoded data removed]",
            "text/plain": [
              "<Figure size 432x720 with 1 Axes>"
            ]
          },
          "metadata": {
            "tags": []
          }
        }
      ]
    },
    {
      "cell_type": "markdown",
      "metadata": {
        "id": "VXalDdWcQk9S",
        "colab_type": "text"
      },
      "source": [
        "Ahora graficaremos frecuencia de incidentes por hora del día"
      ]
    },
    {
      "cell_type": "code",
      "metadata": {
        "id": "0w1yhqciH-fH",
        "colab_type": "code",
        "colab": {
          "base_uri": "https://localhost:8080/",
          "height": 505
        },
        "outputId": "09b40f88-939e-4c04-f53b-08c650f563ee"
      },
      "source": [
        "#Rendodeamos las horas\n",
        "asaltos['HoraHechoRedondeado']= pd.to_datetime(asaltos.HoraHecho,format= '%H:%M:%S').dt.round('H').dt.hour\n",
        "#Calculamos porcentaje de incidencia por hora redondeada\n",
        "frec_hora = asaltos_ord.HoraHechoRedondeado.value_counts()/num_asaltos*100\n",
        "#Ordenamos por hora\n",
        "frec_hora = frec_hora.sort_index()\n",
        "frec_hora.plot(kind='bar', figsize = (15,6))\n"
      ],
      "execution_count": 91,
      "outputs": [
        {
          "output_type": "stream",
          "text": [
            "/usr/local/lib/python3.6/dist-packages/ipykernel_launcher.py:1: SettingWithCopyWarning: \n",
            "A value is trying to be set on a copy of a slice from a DataFrame.\n",
            "Try using .loc[row_indexer,col_indexer] = value instead\n",
            "\n",
            "See the caveats in the documentation: http://pandas.pydata.org/pandas-docs/stable/user_guide/indexing.html#returning-a-view-versus-a-copy\n",
            "  \"\"\"Entry point for launching an IPython kernel.\n"
          ],
          "name": "stderr"
        },
        {
          "output_type": "execute_result",
          "data": {
            "text/plain": [
              "<matplotlib.axes._subplots.AxesSubplot at 0x7fecd180d588>"
            ]
          },
          "metadata": {
            "tags": []
          },
          "execution_count": 91
        },
        {
          "output_type": "display_data",
          "data": {
            "image/png": "[encoded data removed]",
            "text/plain": [
              "<Figure size 1080x432 with 1 Axes>"
            ]
          },
          "metadata": {
            "tags": []
          }
        }
      ]
    },
    {
      "cell_type": "markdown",
      "metadata": {
        "id": "DYgB6IJ4UfM_",
        "colab_type": "text"
      },
      "source": [
        "De la gráfica vemos que los incidentes ocurren basicamente a cualquier hora del dia exceptuando la madrugada (1 - 5 de la mañana ) y van en aumento hasta llegar a un máximo al rededor de las 20 hrs"
      ]
    },
    {
      "cell_type": "markdown",
      "metadata": {
        "id": "cwxPGa7AU9K-",
        "colab_type": "text"
      },
      "source": [
        "# Conclusiones\n",
        "\n",
        "De esta primera y sucinta exploracion de los datos encontramos que la mayor cantidad de delitos con carpeta de investigación caen en la categoría de delitos de bajo impacto y el delito con mayor frecuencia es (a nuestra sorpresa) violencia familiar. \n",
        "\n",
        "Dentro de los delitos que involucran robo a personas en la via publica o en transporte publico (con y sin violencia) encontramos que la colonia centro es la que reporta mayor porcentaje de incidentes (6%) y le siguen : Agricola Pantitlan, Guerrero , Granjas Mexico cada una con un poco más del 1% de los incidentes reportados. Las colonias con menor porcentaje de incidentes reportados son Bosques de las Lomas (0.005%) y le siguen : Los Cedros(0.005%), Pedregal de las Aguilas (0.005%), etc.\n",
        "\n",
        "Además, de estos mismos casos, los delitos ocurren a lo largo de todo el dia. Se presentan aproximadamente 5% en la madrugada (de 1 - 5 am, el periodo con menos incidencias ) en contraste con aproximadamente el 30% que ocurre en la tarde y noche (18 - 22 hrs)."
      ]
    },
    {
      "cell_type": "code",
      "metadata": {
        "id": "1jAGbe3uJOYD",
        "colab_type": "code",
        "colab": {
          "base_uri": "https://localhost:8080/",
          "height": 221
        },
        "outputId": "1f41a822-7eed-4096-8c26-e00972420ace"
      },
      "source": [
        "''' asaltos['LAT'] = asaltos.geopoint.apply(lambda x : x[0] if len(x) > 0 else 0 )\n",
        "asaltos['LON'] = asaltos.geopoint.apply(lambda x : x[1] if len(x) > 0 else 0 )\n",
        "# Creating the location we would like to initialize the focus on. \n",
        "# Store our latitude and longitude\n",
        "latitudes = asaltos[\"LAT\"]\n",
        "longitudes = asaltos[\"LON\"]\n",
        "\n",
        "# Parameters: Lattitude, Longitude, Zoom\n",
        "gmap = gmplot.GoogleMapPlotter(19.4326, -99.1332, 10)\n",
        "\n",
        "# Overlay our datapoints onto the map\n",
        "gmap.heatmap(latitudes, longitudes)\n",
        "# Generate the heatmap into an HTML file\n",
        "gmap.draw(\"/content/drive/My Drive/dataLab/heatmap.html\") '''"
      ],
      "execution_count": 101,
      "outputs": [
        {
          "output_type": "stream",
          "text": [
            "/usr/local/lib/python3.6/dist-packages/ipykernel_launcher.py:1: SettingWithCopyWarning: \n",
            "A value is trying to be set on a copy of a slice from a DataFrame.\n",
            "Try using .loc[row_indexer,col_indexer] = value instead\n",
            "\n",
            "See the caveats in the documentation: http://pandas.pydata.org/pandas-docs/stable/user_guide/indexing.html#returning-a-view-versus-a-copy\n",
            "  \"\"\"Entry point for launching an IPython kernel.\n",
            "/usr/local/lib/python3.6/dist-packages/ipykernel_launcher.py:2: SettingWithCopyWarning: \n",
            "A value is trying to be set on a copy of a slice from a DataFrame.\n",
            "Try using .loc[row_indexer,col_indexer] = value instead\n",
            "\n",
            "See the caveats in the documentation: http://pandas.pydata.org/pandas-docs/stable/user_guide/indexing.html#returning-a-view-versus-a-copy\n",
            "  \n"
          ],
          "name": "stderr"
        }
      ]
    }
  ]
}